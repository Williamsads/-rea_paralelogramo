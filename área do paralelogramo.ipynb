{
 "cells": [
  {
   "cell_type": "markdown",
   "id": "357057bb",
   "metadata": {},
   "source": [
    "### inicio\n",
    "  \n",
    "    exiba \"Bem-vindo\" ao calculador de Área de Paralelogramo\"\n",
    "    Peça para o usuário inserir o comprimento da base\n",
    "    armazene o comprimento da base em uma variável\n",
    "    Peça para o usuário inserir a altura\n",
    "    Armazene a altura em uma variável\n",
    "    Calcule a área do paralelogramo: base * altura\n",
    "    Exiba o resultado\n",
    "    \n",
    "### fim    "
   ]
  },
  {
   "cell_type": "code",
   "execution_count": 7,
   "id": "dd8a1810",
   "metadata": {},
   "outputs": [
    {
     "name": "stdout",
     "output_type": "stream",
     "text": [
      "qual o seu nome? williams\n",
      "Bem-vindo: williams\n",
      "informe o comprimento da base: 5\n",
      "informe a altura: 3\n",
      "A área do paralelogramo é: 15.0\n"
     ]
    }
   ],
   "source": [
    "nome = input(\"qual o seu nome? \")\n",
    "print(f\"Bem-vindo: {nome}\")\n",
    "\n",
    "comprimento = float(input(\"informe o comprimento da base: \"))\n",
    "altura = float(input(\"informe a altura: \"))\n",
    "calculo= comprimento * altura\n",
    "print(f\"A área do paralelogramo é: {calculo}\")"
   ]
  },
  {
   "cell_type": "code",
   "execution_count": null,
   "id": "80932855",
   "metadata": {},
   "outputs": [],
   "source": []
  }
 ],
 "metadata": {
  "kernelspec": {
   "display_name": "Python 3 (ipykernel)",
   "language": "python",
   "name": "python3"
  },
  "language_info": {
   "codemirror_mode": {
    "name": "ipython",
    "version": 3
   },
   "file_extension": ".py",
   "mimetype": "text/x-python",
   "name": "python",
   "nbconvert_exporter": "python",
   "pygments_lexer": "ipython3",
   "version": "3.9.13"
  }
 },
 "nbformat": 4,
 "nbformat_minor": 5
}
